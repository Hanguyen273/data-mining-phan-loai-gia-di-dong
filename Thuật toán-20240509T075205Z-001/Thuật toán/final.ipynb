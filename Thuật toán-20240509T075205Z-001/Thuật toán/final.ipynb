{
 "cells": [
  {
   "cell_type": "code",
   "execution_count": 31,
   "metadata": {},
   "outputs": [
    {
     "name": "stdout",
     "output_type": "stream",
     "text": [
      "              Mat hang             Mua kem   support  confidence      lift\n",
      "0              (COUPE)          (BAGUETTE)  0.011271    0.079180  0.707408\n",
      "1           (BAGUETTE)             (COUPE)  0.011271    0.100701  0.707408\n",
      "2           (BAGUETTE)         (CROISSANT)  0.010788    0.096379  1.148964\n",
      "3          (CROISSANT)          (BAGUETTE)  0.010788    0.128604  1.148964\n",
      "4              (COUPE)        (BOULE 200G)  0.017479    0.122786  6.239965\n",
      "5         (BOULE 200G)             (COUPE)  0.017479    0.888268  6.239965\n",
      "6              (COUPE)        (BOULE 400G)  0.023759    0.166907  5.579279\n",
      "7         (BOULE 400G)             (COUPE)  0.023759    0.794219  5.579279\n",
      "8           (CAMPAGNE)             (COUPE)  0.022807    0.799589  5.617005\n",
      "9              (COUPE)          (CAMPAGNE)  0.022807    0.160214  5.617005\n",
      "10             (COUPE)           (COMPLET)  0.016958    0.119131  5.188490\n",
      "11           (COMPLET)             (COUPE)  0.016958    0.738589  5.188490\n",
      "12             (COUPE)           (MOISSON)  0.016182    0.113674  5.011601\n",
      "13           (MOISSON)             (COUPE)  0.016182    0.713409  5.011601\n",
      "14             (COUPE)     (SPECIAL BREAD)  0.022345    0.156971  4.133311\n",
      "15     (SPECIAL BREAD)             (COUPE)  0.022345    0.588383  4.133311\n",
      "16             (COUPE)         (VIK BREAD)  0.016812    0.118101  5.155164\n",
      "17         (VIK BREAD)             (COUPE)  0.016812    0.733845  5.155164\n",
      "18  (PAIN AU CHOCOLAT)         (CROISSANT)  0.039531    0.512299  6.107265\n",
      "19         (CROISSANT)  (PAIN AU CHOCOLAT)  0.039531    0.471256  6.107265\n"
     ]
    }
   ],
   "source": [
    "import pandas as pd\n",
    "from mlxtend.preprocessing import TransactionEncoder\n",
    "from mlxtend.frequent_patterns import apriori, association_rules\n",
    "\n",
    "data = pd.read_csv('Bakery_sales.csv')\n",
    "\n",
    "transactions = data.groupby('ticket_number')['article'].apply(list).reset_index(name='items')\n",
    "\n",
    "# Sử dụng TransactionEncoder để mã hóa dữ liệu thành dạng dữ liệu nhị phân\n",
    "te = TransactionEncoder()\n",
    "te_ary = te.fit(transactions['items']).transform(transactions['items'])\n",
    "df = pd.DataFrame(te_ary, columns=te.columns_)\n",
    "\n",
    "# Tìm tập hợp các mặt hàng phổ biến\n",
    "frequent_itemsets = apriori(df, min_support=0.01, use_colnames=True)\n",
    "rules = association_rules(frequent_itemsets, metric=\"lift\", min_threshold=0.7)\n",
    "\n",
    "rules = rules.rename(columns={'antecedents': 'Mat hang', 'consequents': 'Mua kem'})\n",
    "selected_columns = ['Mat hang', 'Mua kem', 'support', 'confidence', 'lift']\n",
    "\n",
    "selected_rules = rules[selected_columns]\n",
    "\n",
    "print(selected_rules.head(20))\n",
    "\n"
   ]
  },
  {
   "cell_type": "code",
   "execution_count": 32,
   "metadata": {},
   "outputs": [],
   "source": [
    "# Lưu kết quả xuống một tệp CSV\n",
    "selected_rules.to_csv('association_rules.csv', index=False)\n"
   ]
  }
 ],
 "metadata": {
  "kernelspec": {
   "display_name": "base",
   "language": "python",
   "name": "python3"
  },
  "language_info": {
   "codemirror_mode": {
    "name": "ipython",
    "version": 3
   },
   "file_extension": ".py",
   "mimetype": "text/x-python",
   "name": "python",
   "nbconvert_exporter": "python",
   "pygments_lexer": "ipython3",
   "version": "3.11.5"
  }
 },
 "nbformat": 4,
 "nbformat_minor": 2
}
